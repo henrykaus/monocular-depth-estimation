{
 "cells": [
  {
   "cell_type": "code",
   "execution_count": null,
   "metadata": {},
   "outputs": [],
   "source": [
    "# imports\n",
    "import os\n",
    "import glob\n",
    "import argparse\n",
    "import time\n",
    "from PIL import Image\n",
    "import numpy as np\n",
    "import PIL\n",
    "\n",
    "os.environ['TF_CPP_MIN_LOG_LEVEL'] = '5'\n",
    "from tensorflow.keras.models import load_model\n",
    "from layers import BilinearUpSampling2D\n",
    "from loss import depth_loss_function\n",
    "from utils import predict, display_images\n",
    "from matplotlib import pyplot as plt"
   ]
  },
  {
   "cell_type": "code",
   "execution_count": null,
   "metadata": {},
   "outputs": [],
   "source": [
    "# Argument Parser\n",
    "parser = argparse.ArgumentParser(description='High Quality Monocular Depth Estimation via Transfer Learning')\n",
    "parser.add_argument('--model', default='nyu.h5', type=str, help='Trained Keras model file.')\n",
    "parser.add_argument('--input', default='my_examples/*.jpg', type=str, help='Input filename or folder.')\n",
    "args, unknown = parser.parse_known_args()\n",
    "\n",
    "# Custom object needed for inference and training\n",
    "start = time.time()\n",
    "custom_objects = {'BilinearUpSampling2D': BilinearUpSampling2D, 'depth_loss_function': depth_loss_function}\n",
    "\n",
    "print('Loading model...')\n",
    "\n",
    "# Load model into GPU / CPU\n",
    "model = load_model(args.model, custom_objects=custom_objects, compile=False)\n",
    "\n",
    "print('\\nModel loaded ({0}).'.format(args.model))\n",
    "\n",
    "def load_images_with_resize(image_files):\n",
    "    loaded_images = []\n",
    "    for file in image_files:\n",
    "        im = Image.open( file )\n",
    "        im = im.resize((640, 480), PIL.Image.ANTIALIAS)\n",
    "        x = np.clip(np.asarray(im, dtype=float) / 255, 0, 1)\n",
    "        loaded_images.append(x)\n",
    "    return np.stack(loaded_images, axis=0)\n",
    "\n",
    "# Input images\n",
    "inputs = load_images_with_resize( glob.glob(args.input) )\n",
    "print('\\nLoaded ({0}) images of size {1}.'.format(inputs.shape[0], inputs.shape[1:]))\n",
    "\n",
    "# Compute results\n",
    "outputs = predict(model, inputs)\n",
    "\n",
    "end = time.time()\n",
    "print('It took: ', end - start)"
   ]
  },
  {
   "cell_type": "code",
   "execution_count": null,
   "metadata": {},
   "outputs": [],
   "source": [
    "# Display results\n",
    "viz = display_images(outputs.copy())\n",
    "plt.figure(figsize=(10,5))\n",
    "out = plt.imshow(viz)\n",
    "print(\"Value Range:\", viz.min(), \",\", viz.max())\n",
    "out = plt.colorbar()\n",
    "#plt.savefig('results.png')"
   ]
  }
 ],
 "metadata": {
  "kernelspec": {
   "display_name": "env",
   "language": "python",
   "name": "python3"
  },
  "language_info": {
   "codemirror_mode": {
    "name": "ipython",
    "version": 3
   },
   "file_extension": ".py",
   "mimetype": "text/x-python",
   "name": "python",
   "nbconvert_exporter": "python",
   "pygments_lexer": "ipython3",
   "version": "3.7.9"
  },
  "orig_nbformat": 4,
  "vscode": {
   "interpreter": {
    "hash": "b793d7bc73bea712712f6f108b8aeff3d41b14825160568d437f9f2c3cae05f6"
   }
  }
 },
 "nbformat": 4,
 "nbformat_minor": 2
}
